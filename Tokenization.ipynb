{
 "cells": [
  {
   "cell_type": "code",
   "execution_count": 2,
   "id": "28bf1054",
   "metadata": {
    "scrolled": true
   },
   "outputs": [
    {
     "data": {
      "text/plain": [
       "' Tokenization Examples'"
      ]
     },
     "execution_count": 2,
     "metadata": {},
     "output_type": "execute_result"
    }
   ],
   "source": [
    "\"\"\" NLTK...Tokenization Examples\"\"\""
   ]
  },
  {
   "cell_type": "code",
   "execution_count": 5,
   "id": "6e617e64",
   "metadata": {},
   "outputs": [
    {
     "name": "stdout",
     "output_type": "stream",
     "text": [
      "Defaulting to user installation because normal site-packages is not writeable\n",
      "Requirement already satisfied: nltk in c:\\programdata\\anaconda3\\lib\\site-packages (3.8.1)\n",
      "Requirement already satisfied: click in c:\\programdata\\anaconda3\\lib\\site-packages (from nltk) (8.0.4)\n",
      "Requirement already satisfied: joblib in c:\\programdata\\anaconda3\\lib\\site-packages (from nltk) (1.2.0)\n",
      "Requirement already satisfied: regex>=2021.8.3 in c:\\programdata\\anaconda3\\lib\\site-packages (from nltk) (2022.7.9)\n",
      "Requirement already satisfied: tqdm in c:\\programdata\\anaconda3\\lib\\site-packages (from nltk) (4.65.0)\n",
      "Requirement already satisfied: colorama in c:\\programdata\\anaconda3\\lib\\site-packages (from click->nltk) (0.4.6)\n"
     ]
    }
   ],
   "source": [
    "!pip install nltk"
   ]
  },
  {
   "cell_type": "code",
   "execution_count": null,
   "id": "eba1536e",
   "metadata": {},
   "outputs": [],
   "source": []
  },
  {
   "cell_type": "code",
   "execution_count": 61,
   "id": "ea51a666",
   "metadata": {},
   "outputs": [],
   "source": [
    "corpus = \"\"\" Natural Language Processing (NLP) is a subfield of computer science and artificial intelligence (AI) . It focuses on the interaction between computers and human language! It enables machines to understand, interpret, and generate human language in a way that is both meaningful and useful.\n",
    "\n",
    "Key Principles:\n",
    "\n",
    "NLP's cabability to combines computational linguistics, which involves rule-based modeling of human language, with statistical modeling, machine learning (ML), and deep learning. \"\"\""
   ]
  },
  {
   "cell_type": "code",
   "execution_count": 62,
   "id": "84a66812",
   "metadata": {},
   "outputs": [
    {
     "name": "stdout",
     "output_type": "stream",
     "text": [
      " Natural Language Processing (NLP) is a subfield of computer science and artificial intelligence (AI) . It focuses on the interaction between computers and human language! It enables machines to understand, interpret, and generate human language in a way that is both meaningful and useful.\n",
      "\n",
      "Key Principles:\n",
      "\n",
      "NLP's cabability to combines computational linguistics, which involves rule-based modeling of human language, with statistical modeling, machine learning (ML), and deep learning. \n"
     ]
    }
   ],
   "source": [
    "print(corpus)"
   ]
  },
  {
   "cell_type": "code",
   "execution_count": 9,
   "id": "df6cc12e",
   "metadata": {},
   "outputs": [
    {
     "name": "stderr",
     "output_type": "stream",
     "text": [
      "[nltk_data] Downloading package punkt to\n",
      "[nltk_data]     C:\\Users\\wankh\\AppData\\Roaming\\nltk_data...\n",
      "[nltk_data]   Unzipping tokenizers\\punkt.zip.\n"
     ]
    }
   ],
   "source": [
    "# Sentence --> Paragraphs\n",
    "import nltk\n",
    "nltk.download('punkt')\n",
    "from nltk.tokenize import sent_tokenize\n"
   ]
  },
  {
   "cell_type": "code",
   "execution_count": 63,
   "id": "cfd64bc7",
   "metadata": {
    "scrolled": true
   },
   "outputs": [],
   "source": [
    "# sent_tokenize() separates sentences based on full stop, exclamation mark.\n",
    "documents= sent_tokenize(corpus)"
   ]
  },
  {
   "cell_type": "code",
   "execution_count": 64,
   "id": "8abbf607",
   "metadata": {},
   "outputs": [
    {
     "data": {
      "text/plain": [
       "list"
      ]
     },
     "execution_count": 64,
     "metadata": {},
     "output_type": "execute_result"
    }
   ],
   "source": [
    "type(documents)"
   ]
  },
  {
   "cell_type": "code",
   "execution_count": 65,
   "id": "bf0479f7",
   "metadata": {},
   "outputs": [
    {
     "name": "stdout",
     "output_type": "stream",
     "text": [
      " Natural Language Processing (NLP) is a subfield of computer science and artificial intelligence (AI) .\n",
      "It focuses on the interaction between computers and human language!\n",
      "It enables machines to understand, interpret, and generate human language in a way that is both meaningful and useful.\n",
      "Key Principles:\n",
      "\n",
      "NLP's cabability to combines computational linguistics, which involves rule-based modeling of human language, with statistical modeling, machine learning (ML), and deep learning.\n"
     ]
    }
   ],
   "source": [
    "for sentences in documents:\n",
    "    print(sentences)"
   ]
  },
  {
   "cell_type": "code",
   "execution_count": 34,
   "id": "257c917f",
   "metadata": {},
   "outputs": [],
   "source": [
    "## Tokenization\n",
    "## Paragraph --> words\n",
    "## sentance --> words\n",
    "from nltk.tokenize import word_tokenize"
   ]
  },
  {
   "cell_type": "code",
   "execution_count": 66,
   "id": "1e195296",
   "metadata": {},
   "outputs": [
    {
     "data": {
      "text/plain": [
       "['Natural',\n",
       " 'Language',\n",
       " 'Processing',\n",
       " '(',\n",
       " 'NLP',\n",
       " ')',\n",
       " 'is',\n",
       " 'a',\n",
       " 'subfield',\n",
       " 'of',\n",
       " 'computer',\n",
       " 'science',\n",
       " 'and',\n",
       " 'artificial',\n",
       " 'intelligence',\n",
       " '(',\n",
       " 'AI',\n",
       " ')',\n",
       " '.',\n",
       " 'It',\n",
       " 'focuses',\n",
       " 'on',\n",
       " 'the',\n",
       " 'interaction',\n",
       " 'between',\n",
       " 'computers',\n",
       " 'and',\n",
       " 'human',\n",
       " 'language',\n",
       " '!',\n",
       " 'It',\n",
       " 'enables',\n",
       " 'machines',\n",
       " 'to',\n",
       " 'understand',\n",
       " ',',\n",
       " 'interpret',\n",
       " ',',\n",
       " 'and',\n",
       " 'generate',\n",
       " 'human',\n",
       " 'language',\n",
       " 'in',\n",
       " 'a',\n",
       " 'way',\n",
       " 'that',\n",
       " 'is',\n",
       " 'both',\n",
       " 'meaningful',\n",
       " 'and',\n",
       " 'useful',\n",
       " '.',\n",
       " 'Key',\n",
       " 'Principles',\n",
       " ':',\n",
       " 'NLP',\n",
       " \"'s\",\n",
       " 'cabability',\n",
       " 'to',\n",
       " 'combines',\n",
       " 'computational',\n",
       " 'linguistics',\n",
       " ',',\n",
       " 'which',\n",
       " 'involves',\n",
       " 'rule-based',\n",
       " 'modeling',\n",
       " 'of',\n",
       " 'human',\n",
       " 'language',\n",
       " ',',\n",
       " 'with',\n",
       " 'statistical',\n",
       " 'modeling',\n",
       " ',',\n",
       " 'machine',\n",
       " 'learning',\n",
       " '(',\n",
       " 'ML',\n",
       " ')',\n",
       " ',',\n",
       " 'and',\n",
       " 'deep',\n",
       " 'learning',\n",
       " '.']"
      ]
     },
     "execution_count": 66,
     "metadata": {},
     "output_type": "execute_result"
    }
   ],
   "source": [
    "word_tokenize(corpus) # every word, punchuation symbol from a paragraph is consider as a single word"
   ]
  },
  {
   "cell_type": "code",
   "execution_count": 67,
   "id": "920c96c9",
   "metadata": {},
   "outputs": [
    {
     "name": "stdout",
     "output_type": "stream",
     "text": [
      "['Natural', 'Language', 'Processing', '(', 'NLP', ')', 'is', 'a', 'subfield', 'of', 'computer', 'science', 'and', 'artificial', 'intelligence', '(', 'AI', ')', '.']\n",
      "['It', 'focuses', 'on', 'the', 'interaction', 'between', 'computers', 'and', 'human', 'language', '!']\n",
      "['It', 'enables', 'machines', 'to', 'understand', ',', 'interpret', ',', 'and', 'generate', 'human', 'language', 'in', 'a', 'way', 'that', 'is', 'both', 'meaningful', 'and', 'useful', '.']\n",
      "['Key', 'Principles', ':', 'NLP', \"'s\", 'cabability', 'to', 'combines', 'computational', 'linguistics', ',', 'which', 'involves', 'rule-based', 'modeling', 'of', 'human', 'language', ',', 'with', 'statistical', 'modeling', ',', 'machine', 'learning', '(', 'ML', ')', ',', 'and', 'deep', 'learning', '.']\n"
     ]
    }
   ],
   "source": [
    "for sentences in documents:\n",
    "    print(word_tokenize(sentences))     # word_tokenize() helps convert sentences into words\n",
    "                                        # (NLP's) here 's is consider as a separate word"
   ]
  },
  {
   "cell_type": "code",
   "execution_count": 44,
   "id": "a9ccbdd9",
   "metadata": {},
   "outputs": [],
   "source": [
    "from nltk.tokenize import wordpunct_tokenize"
   ]
  },
  {
   "cell_type": "code",
   "execution_count": 68,
   "id": "5041af02",
   "metadata": {},
   "outputs": [
    {
     "data": {
      "text/plain": [
       "['Natural',\n",
       " 'Language',\n",
       " 'Processing',\n",
       " '(',\n",
       " 'NLP',\n",
       " ')',\n",
       " 'is',\n",
       " 'a',\n",
       " 'subfield',\n",
       " 'of',\n",
       " 'computer',\n",
       " 'science',\n",
       " 'and',\n",
       " 'artificial',\n",
       " 'intelligence',\n",
       " '(',\n",
       " 'AI',\n",
       " ')',\n",
       " '.',\n",
       " 'It',\n",
       " 'focuses',\n",
       " 'on',\n",
       " 'the',\n",
       " 'interaction',\n",
       " 'between',\n",
       " 'computers',\n",
       " 'and',\n",
       " 'human',\n",
       " 'language',\n",
       " '!',\n",
       " 'It',\n",
       " 'enables',\n",
       " 'machines',\n",
       " 'to',\n",
       " 'understand',\n",
       " ',',\n",
       " 'interpret',\n",
       " ',',\n",
       " 'and',\n",
       " 'generate',\n",
       " 'human',\n",
       " 'language',\n",
       " 'in',\n",
       " 'a',\n",
       " 'way',\n",
       " 'that',\n",
       " 'is',\n",
       " 'both',\n",
       " 'meaningful',\n",
       " 'and',\n",
       " 'useful',\n",
       " '.',\n",
       " 'Key',\n",
       " 'Principles',\n",
       " ':',\n",
       " 'NLP',\n",
       " \"'\",\n",
       " 's',\n",
       " 'cabability',\n",
       " 'to',\n",
       " 'combines',\n",
       " 'computational',\n",
       " 'linguistics',\n",
       " ',',\n",
       " 'which',\n",
       " 'involves',\n",
       " 'rule',\n",
       " '-',\n",
       " 'based',\n",
       " 'modeling',\n",
       " 'of',\n",
       " 'human',\n",
       " 'language',\n",
       " ',',\n",
       " 'with',\n",
       " 'statistical',\n",
       " 'modeling',\n",
       " ',',\n",
       " 'machine',\n",
       " 'learning',\n",
       " '(',\n",
       " 'ML',\n",
       " '),',\n",
       " 'and',\n",
       " 'deep',\n",
       " 'learning',\n",
       " '.']"
      ]
     },
     "execution_count": 68,
     "metadata": {},
     "output_type": "execute_result"
    }
   ],
   "source": [
    "wordpunct_tokenize(corpus)   # a punchuation mark apostrophe from NLP's is consider as a separate word \n",
    "            # as well as Dot operator comes in between the paragraphs, will consider as a separate word"
   ]
  },
  {
   "cell_type": "code",
   "execution_count": 46,
   "id": "928ff2c8",
   "metadata": {},
   "outputs": [],
   "source": [
    "from nltk.tokenize import TreebankWordTokenizer"
   ]
  },
  {
   "cell_type": "code",
   "execution_count": 69,
   "id": "927b2720",
   "metadata": {},
   "outputs": [],
   "source": [
    "tokenizer = TreebankWordTokenizer()  # initiatizing Tokenizer"
   ]
  },
  {
   "cell_type": "code",
   "execution_count": 70,
   "id": "3f06c426",
   "metadata": {},
   "outputs": [
    {
     "data": {
      "text/plain": [
       "['Natural',\n",
       " 'Language',\n",
       " 'Processing',\n",
       " '(',\n",
       " 'NLP',\n",
       " ')',\n",
       " 'is',\n",
       " 'a',\n",
       " 'subfield',\n",
       " 'of',\n",
       " 'computer',\n",
       " 'science',\n",
       " 'and',\n",
       " 'artificial',\n",
       " 'intelligence',\n",
       " '(',\n",
       " 'AI',\n",
       " ')',\n",
       " '.',\n",
       " 'It',\n",
       " 'focuses',\n",
       " 'on',\n",
       " 'the',\n",
       " 'interaction',\n",
       " 'between',\n",
       " 'computers',\n",
       " 'and',\n",
       " 'human',\n",
       " 'language',\n",
       " '!',\n",
       " 'It',\n",
       " 'enables',\n",
       " 'machines',\n",
       " 'to',\n",
       " 'understand',\n",
       " ',',\n",
       " 'interpret',\n",
       " ',',\n",
       " 'and',\n",
       " 'generate',\n",
       " 'human',\n",
       " 'language',\n",
       " 'in',\n",
       " 'a',\n",
       " 'way',\n",
       " 'that',\n",
       " 'is',\n",
       " 'both',\n",
       " 'meaningful',\n",
       " 'and',\n",
       " 'useful.',\n",
       " 'Key',\n",
       " 'Principles',\n",
       " ':',\n",
       " 'NLP',\n",
       " \"'s\",\n",
       " 'cabability',\n",
       " 'to',\n",
       " 'combines',\n",
       " 'computational',\n",
       " 'linguistics',\n",
       " ',',\n",
       " 'which',\n",
       " 'involves',\n",
       " 'rule-based',\n",
       " 'modeling',\n",
       " 'of',\n",
       " 'human',\n",
       " 'language',\n",
       " ',',\n",
       " 'with',\n",
       " 'statistical',\n",
       " 'modeling',\n",
       " ',',\n",
       " 'machine',\n",
       " 'learning',\n",
       " '(',\n",
       " 'ML',\n",
       " ')',\n",
       " ',',\n",
       " 'and',\n",
       " 'deep',\n",
       " 'learning',\n",
       " '.']"
      ]
     },
     "execution_count": 70,
     "metadata": {},
     "output_type": "execute_result"
    }
   ],
   "source": [
    "tokenizer.tokenize(corpus)  # full stop comes in between paragraphs will consider as a separate word"
   ]
  },
  {
   "cell_type": "code",
   "execution_count": null,
   "id": "e341c284",
   "metadata": {},
   "outputs": [],
   "source": []
  }
 ],
 "metadata": {
  "kernelspec": {
   "display_name": "Python 3 (ipykernel)",
   "language": "python",
   "name": "python3"
  },
  "language_info": {
   "codemirror_mode": {
    "name": "ipython",
    "version": 3
   },
   "file_extension": ".py",
   "mimetype": "text/x-python",
   "name": "python",
   "nbconvert_exporter": "python",
   "pygments_lexer": "ipython3",
   "version": "3.11.5"
  }
 },
 "nbformat": 4,
 "nbformat_minor": 5
}
